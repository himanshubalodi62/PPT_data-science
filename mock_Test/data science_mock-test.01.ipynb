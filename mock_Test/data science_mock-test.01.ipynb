{
 "cells": [
  {
   "cell_type": "markdown",
   "id": "84b0b2c7",
   "metadata": {},
   "source": [
    "### Question 17."
   ]
  },
  {
   "cell_type": "markdown",
   "id": "531a040a",
   "metadata": {},
   "source": [
    "### Write a function that takes a list of numbers as input and returns a new list containing only the even numbers from the input list. Use list comprehension to solve this problem.\n",
    "\n",
    "\n",
    "Example:\n",
    "\n",
    "    \n",
    "Input: [1, 2, 3, 4, 5, 6, 7, 8, 9, 10]\n",
    "\n",
    "    \n",
    "Output: [2, 4, 6, 8, 10]"
   ]
  },
  {
   "cell_type": "code",
   "execution_count": 8,
   "id": "17bf32f6",
   "metadata": {},
   "outputs": [
    {
     "name": "stdout",
     "output_type": "stream",
     "text": [
      "[2, 4, 6, 8, 10]\n"
     ]
    }
   ],
   "source": [
    "def find_even_numbers(numbers):\n",
    "    return [num for num in numbers if num % 2 == 0]\n",
    "\n",
    "input_list = [1, 2, 3, 4, 5, 6, 7, 8, 9, 10]\n",
    "output_list = find_even_numbers(input_list)\n",
    "print(output_list)"
   ]
  },
  {
   "cell_type": "code",
   "execution_count": 10,
   "id": "5829f76f",
   "metadata": {},
   "outputs": [
    {
     "name": "stdout",
     "output_type": "stream",
     "text": [
      "Enter a list of numbers1 2 3 4 5 6 7 8 9 10\n",
      "[2, 4, 6, 8, 10]\n"
     ]
    }
   ],
   "source": [
    "def find_even_numbers(numbers):\n",
    "    return [num for num in numbers if num % 2 == 0]\n",
    "\n",
    "\n",
    "input_string = input(\"Enter a list of numbers\")\n",
    "\n",
    "input_list = input_string.split()\n",
    "\n",
    "input_list = [int(num) for num in input_list]\n",
    "\n",
    "output_list = find_even_numbers(input_list)\n",
    "\n",
    "# Print the output_list\n",
    "print(output_list)"
   ]
  },
  {
   "cell_type": "markdown",
   "id": "9ff54b83",
   "metadata": {},
   "source": [
    "### 18. Implement a decorator function called ‘timer’ that measures the execution time of a function. The ‘timer’ decorator should print the time taken by the decorated function to execute. Use the ‘time’ module in Python to calculate the execution time.\n",
    "\n",
    "\n",
    "Example:\n",
    "\n",
    "    \n",
    "import time\n",
    "\n",
    "@timer\n",
    "def my_function():\n",
    "    # Function code goes here\n",
    "    time.sleep(2)\n",
    "\n",
    "my_function()\n",
    "\n",
    "Output:\n",
    "\"Execution time: 2.00123 seconds\""
   ]
  },
  {
   "cell_type": "code",
   "execution_count": 12,
   "id": "c55cbc51",
   "metadata": {},
   "outputs": [
    {
     "name": "stdout",
     "output_type": "stream",
     "text": [
      "Execution time: 2.01383 seconds\n"
     ]
    }
   ],
   "source": [
    "import time\n",
    "\n",
    "def timer(func):\n",
    "    def wrapper(*args, **kwargs):\n",
    "        start_time = time.time()\n",
    "        result = func(*args, **kwargs)\n",
    "        end_time = time.time()\n",
    "        execution_time = end_time - start_time\n",
    "        print(f\"Execution time: {execution_time:.5f} seconds\")\n",
    "        return result\n",
    "    return wrapper\n",
    "\n",
    "@timer\n",
    "def my_function():\n",
    "    # Function code goes here\n",
    "    time.sleep(2)\n",
    "\n",
    "my_function()"
   ]
  },
  {
   "cell_type": "markdown",
   "id": "1a69167f",
   "metadata": {},
   "source": [
    "### 19. Write a function called ‘calculate_mean’ that takes a list of numbers as input and returns the mean (average) of the numbers. The function should calculate the mean using the sum of the numbers divided by the total count.\n",
    "\n",
    "\n",
    "Example:\n",
    "\n",
    "\n",
    "\n",
    "def calculate_mean(numbers):\n",
    "\n",
    "    total = sum(numbers)\n",
    "    \n",
    "    \n",
    "    count = len(numbers)\n",
    "    \n",
    "    mean = total / count\n",
    "    \n",
    "    return mean\n",
    "\n",
    "data = [10, 15, 20, 25, 30]\n",
    "\n",
    "\n",
    "mean_value = calculate_mean(data)\n",
    "\n",
    "\n",
    "print(\"Mean:\", mean_value)\n",
    "\n",
    "Output:\n",
    "Mean: 20.0"
   ]
  },
  {
   "cell_type": "code",
   "execution_count": 2,
   "id": "ee8dc6f4",
   "metadata": {},
   "outputs": [
    {
     "name": "stdout",
     "output_type": "stream",
     "text": [
      "[1,2,3,4,5]\n",
      "The mean is:  3.0\n"
     ]
    }
   ],
   "source": [
    "def calculate_mean(l):\n",
    "    '''\n",
    "    This function retuns the mean of list of numbers\n",
    "    '''\n",
    "    num_sum=sum(l)\n",
    "    n=len(l)\n",
    "    return num_sum/n\n",
    "\n",
    "print(\"The mean is: \", calculate_mean(eval(input())))"
   ]
  },
  {
   "cell_type": "markdown",
   "id": "100b7243",
   "metadata": {},
   "source": [
    "### 20. Write a function called ‘perform_hypothesis_test’ that takes two lists of numbers as input, representing two samples. The function should perform a two-sample t-test and return the p-value. Use the ‘scipy.stats’ module in Python to calculate the t-test and p-value.\n",
    "\n",
    "Example:\n",
    "\n",
    "from scipy import stats\n",
    "\n",
    "\n",
    "def perform_hypothesis_test(sample1, sample2):\n",
    "\n",
    "    t_statistic, p_value = stats.ttest_ind(sample1, sample2)\n",
    "    \n",
    "    return p_value\n",
    "\n",
    "sample1 = [5, 10, 15, 20, 25]\n",
    "\n",
    "sample2 = [10, 20, 30, 40, 50]\n",
    "\n",
    "p_value = perform_hypothesis_test(sample1, sample2)\n",
    "\n",
    "print(\"P-value:\", p_value)\n",
    "\n",
    "Output:\n",
    "\n",
    "P-value: 0.1064706396450037"
   ]
  },
  {
   "cell_type": "code",
   "execution_count": 15,
   "id": "70f19884",
   "metadata": {},
   "outputs": [
    {
     "name": "stdout",
     "output_type": "stream",
     "text": [
      "P-value: 0.09434977284243756\n"
     ]
    }
   ],
   "source": [
    "from scipy import stats\n",
    "def perform_hypothesis_test(sample1, sample2):\n",
    "    t_statistic, p_value = stats.ttest_ind(sample1, sample2)\n",
    "    return p_value\n",
    "\n",
    "\n",
    "sample1 = [5, 10, 15, 20, 25]\n",
    "\n",
    "sample2 = [10, 20, 30, 40, 50]\n",
    "p_value = perform_hypothesis_test(sample1 , sample2)\n",
    "print(\"P-value:\", p_value)"
   ]
  },
  {
   "cell_type": "code",
   "execution_count": 1,
   "id": "aa22bd23",
   "metadata": {},
   "outputs": [
    {
     "name": "stdout",
     "output_type": "stream",
     "text": [
      "[5, 10, 15, 20, 25]\n",
      "[10, 20, 30, 40, 50]\n",
      "P-value:  0.09434977284243756\n"
     ]
    }
   ],
   "source": [
    "from scipy import stats\n",
    "\n",
    "def perform_hypothesis_test(sample1, sample2):\n",
    "    t_statistics, p_value=stats.ttest_ind(sample1, sample2)\n",
    "    return p_value\n",
    "\n",
    "\n",
    "sample1=eval(input())\n",
    "sample2=eval(input())\n",
    "print('P-value: ',perform_hypothesis_test(sample1, sample2))"
   ]
  },
  {
   "cell_type": "code",
   "execution_count": null,
   "id": "062ea0c8",
   "metadata": {},
   "outputs": [],
   "source": []
  }
 ],
 "metadata": {
  "kernelspec": {
   "display_name": "Python 3 (ipykernel)",
   "language": "python",
   "name": "python3"
  },
  "language_info": {
   "codemirror_mode": {
    "name": "ipython",
    "version": 3
   },
   "file_extension": ".py",
   "mimetype": "text/x-python",
   "name": "python",
   "nbconvert_exporter": "python",
   "pygments_lexer": "ipython3",
   "version": "3.10.9"
  }
 },
 "nbformat": 4,
 "nbformat_minor": 5
}
