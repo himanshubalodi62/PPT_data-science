{
 "cells": [
  {
   "cell_type": "markdown",
   "id": "103fc477",
   "metadata": {},
   "source": [
    "### Choose a project from an internship portal and try to write a HLD and LLD based on the sample given in your portal for a respective project  "
   ]
  },
  {
   "cell_type": "code",
   "execution_count": null,
   "id": "8de77da1",
   "metadata": {},
   "outputs": [],
   "source": []
  }
 ],
 "metadata": {
  "kernelspec": {
   "display_name": "Python 3 (ipykernel)",
   "language": "python",
   "name": "python3"
  },
  "language_info": {
   "codemirror_mode": {
    "name": "ipython",
    "version": 3
   },
   "file_extension": ".py",
   "mimetype": "text/x-python",
   "name": "python",
   "nbconvert_exporter": "python",
   "pygments_lexer": "ipython3",
   "version": "3.10.9"
  }
 },
 "nbformat": 4,
 "nbformat_minor": 5
}
