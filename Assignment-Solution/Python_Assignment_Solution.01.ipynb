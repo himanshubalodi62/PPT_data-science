{
 "cells": [
  {
   "cell_type": "markdown",
   "id": "95b50481",
   "metadata": {},
   "source": [
    "## Data_Science_Assignment.1_Solution"
   ]
  },
  {
   "cell_type": "markdown",
   "id": "f10489ab",
   "metadata": {},
   "source": [
    "### 1. Write a Python program to reverse a string without using any built-in string reversal functions.\n"
   ]
  },
  {
   "cell_type": "code",
   "execution_count": 2,
   "id": "971c28f9",
   "metadata": {},
   "outputs": [
    {
     "name": "stdout",
     "output_type": "stream",
     "text": [
      "Data science full stack boot camp\n"
     ]
    },
    {
     "data": {
      "text/plain": [
       "'pmac toob kcats lluf ecneics ataD'"
      ]
     },
     "execution_count": 2,
     "metadata": {},
     "output_type": "execute_result"
    }
   ],
   "source": [
    "def reverse_string(s):\n",
    "    \"\"\"The function reverse of the string\"\"\"\n",
    "    \n",
    "    if len(s)==0:\n",
    "        return \"Empty string\"\n",
    "    temp = s\n",
    "    res = ''\n",
    "    while temp:\n",
    "        res = res+temp[-1]\n",
    "        temp = temp[:-1]\n",
    "    return res\n",
    "reverse_string(s=input())\n",
    "        "
   ]
  },
  {
   "cell_type": "code",
   "execution_count": 3,
   "id": "b2c83cc5",
   "metadata": {},
   "outputs": [
    {
     "data": {
      "text/plain": [
       "'pmac toob kcats lluf ecneicS ataD'"
      ]
     },
     "execution_count": 3,
     "metadata": {},
     "output_type": "execute_result"
    }
   ],
   "source": [
    "s = \"Data Science full stack boot camp\"\n",
    "s[::-1]"
   ]
  },
  {
   "cell_type": "markdown",
   "id": "768251f1",
   "metadata": {},
   "source": [
    "### 2. Implement a function to check if a given string is a palindrome."
   ]
  },
  {
   "cell_type": "code",
   "execution_count": 4,
   "id": "87097d2e",
   "metadata": {},
   "outputs": [
    {
     "name": "stdout",
     "output_type": "stream",
     "text": [
      "The string is a palindrome.\n"
     ]
    }
   ],
   "source": [
    "def is_palindrome(input_string):\n",
    "    input_string = input_string.replace(\" \", \"\").lower()\n",
    "    reversed_string = input_string[::-1]\n",
    "    return input_string == reversed_string\n",
    "\n",
    "#\n",
    "string_to_check = \"A man a plan a canal Panama\"\n",
    "if is_palindrome(string_to_check):\n",
    "    print(\"The string is a palindrome.\")\n",
    "else:\n",
    "    print(\"The string is not a palindrome.\")"
   ]
  },
  {
   "cell_type": "code",
   "execution_count": 5,
   "id": "db1aaac9",
   "metadata": {},
   "outputs": [
    {
     "name": "stdout",
     "output_type": "stream",
     "text": [
      "oyo\n"
     ]
    },
    {
     "data": {
      "text/plain": [
       "True"
      ]
     },
     "execution_count": 5,
     "metadata": {},
     "output_type": "execute_result"
    }
   ],
   "source": [
    "def string_palindrome(s):\n",
    "    '''\n",
    "    This function checks if a string is palindrome or not\n",
    "    '''\n",
    "    if len(s)==0:    # corner case\n",
    "        return 'Empty String'\n",
    "    temp = s\n",
    "    res = ''\n",
    "    while temp:\n",
    "        res+=temp[-1]    # adding last element to res\n",
    "        temp=temp[:-1]    # removing last element from temp\n",
    "    return res==s\n",
    "\n",
    "string_palindrome(s=input())"
   ]
  },
  {
   "cell_type": "markdown",
   "id": "6222c2d7",
   "metadata": {},
   "source": [
    "### 3. Write a program to find the largest element in a given list."
   ]
  },
  {
   "cell_type": "code",
   "execution_count": 6,
   "id": "ec7f3ca2",
   "metadata": {},
   "outputs": [
    {
     "name": "stdout",
     "output_type": "stream",
     "text": [
      "2\n"
     ]
    }
   ],
   "source": [
    "def max_num_in_list( list ):\n",
    "    max = list[ 0 ]\n",
    "    for a in list:\n",
    "        if a > max:\n",
    "            max = a\n",
    "    return max\n",
    "print(max_num_in_list([1, 2, -8, 0]))"
   ]
  },
  {
   "cell_type": "markdown",
   "id": "669df054",
   "metadata": {},
   "source": [
    "### 4. Implement a function to count the occurrence of each element in a list."
   ]
  },
  {
   "cell_type": "code",
   "execution_count": 7,
   "id": "d1a392a7",
   "metadata": {},
   "outputs": [
    {
     "name": "stdout",
     "output_type": "stream",
     "text": [
      "Original List:\n",
      "['Green', 'Red', 'Blue', 'Red', 'Orange', 'Black', 'Black', 'White', 'Orange']\n",
      "Count the occurrence of each element of the said list:\n",
      "Counter({'Red': 2, 'Orange': 2, 'Black': 2, 'Green': 1, 'Blue': 1, 'White': 1})\n",
      "\n",
      "Original List:\n",
      "[3, 5, 0, 3, 9, 5, 8, 0, 3, 8, 5, 8, 3, 5, 8, 1, 0, 2]\n",
      "Count the occurrence of each element of the said list:\n",
      "Counter({3: 4, 5: 4, 8: 4, 0: 3, 9: 1, 1: 1, 2: 1})\n"
     ]
    }
   ],
   "source": [
    "from collections import Counter\n",
    "colors = ['Green', 'Red', 'Blue', 'Red', 'Orange', 'Black', 'Black', 'White', 'Orange']\n",
    "print(\"Original List:\")\n",
    "print(colors)\n",
    "print(\"Count the occurrence of each element of the said list:\")\n",
    "result = Counter(colors)\n",
    "print(result)\n",
    "nums = [3,5,0,3,9,5,8,0,3,8,5,8,3,5,8,1,0,2]\n",
    "print(\"\\nOriginal List:\")\n",
    "print(nums)\n",
    "print(\"Count the occurrence of each element of the said list:\")\n",
    "result = Counter(nums)\n",
    "print(result)"
   ]
  },
  {
   "cell_type": "code",
   "execution_count": 8,
   "id": "04c47f4e",
   "metadata": {},
   "outputs": [
    {
     "name": "stdout",
     "output_type": "stream",
     "text": [
      "1 2 3 4 2 1 4 5 6 9 8 7 6 5 4 3 2 1\n"
     ]
    },
    {
     "data": {
      "text/plain": [
       "{1: 3, 2: 3, 3: 2, 4: 3, 5: 2, 6: 2, 9: 1, 8: 1, 7: 1}"
      ]
     },
     "execution_count": 8,
     "metadata": {},
     "output_type": "execute_result"
    }
   ],
   "source": [
    "def occurances(my_list):\n",
    "    '''\n",
    "    This function returns the occurances of each element in the list\n",
    "    '''\n",
    "    if len(my_list)==0:    # corner case\n",
    "        return 'Empty List'\n",
    "    index_map={}\n",
    "    for i in my_list:\n",
    "        if i not in index_map:\n",
    "            index_map[i]=1    # assign a value\n",
    "        else:\n",
    "            index_map[i]+=1    # increase the value\n",
    "    return index_map\n",
    "\n",
    "my_list=list(map(int, input().split()))\n",
    "occurances(my_list)"
   ]
  },
  {
   "cell_type": "markdown",
   "id": "aab139a3",
   "metadata": {},
   "source": [
    "### 5. Write a Python program to find the second largest number in a list."
   ]
  },
  {
   "cell_type": "code",
   "execution_count": 9,
   "id": "1f623c48",
   "metadata": {},
   "outputs": [
    {
     "name": "stdout",
     "output_type": "stream",
     "text": [
      "Enter size of list 4\n",
      "Enter element of list 2\n",
      "Enter element of list 5\n",
      "Enter element of list 7\n",
      "Enter element of list 8\n",
      "second largest in  [2, 5, 7, 8] is\n",
      "7\n"
     ]
    }
   ],
   "source": [
    "#second largest number in list\n",
    "\n",
    "#function\n",
    "def second_largest(list):\n",
    "    list.sort()\n",
    "    return list[-2]\n",
    "\n",
    "#input of list\n",
    "l=[]\n",
    "n=int(input(\"Enter size of list \"))\n",
    "for i in range(0,n):\n",
    "    e=int(input(\"Enter element of list \"))\n",
    "    l.append(e)\n",
    "\n",
    "#smallest\n",
    "print(\"second largest in \",l,\"is\")\n",
    "print(second_largest(l))    "
   ]
  },
  {
   "cell_type": "markdown",
   "id": "09259781",
   "metadata": {},
   "source": [
    "### 6. Implement a function to remove duplicate elements from a list."
   ]
  },
  {
   "cell_type": "code",
   "execution_count": 10,
   "id": "b0dda7bc",
   "metadata": {},
   "outputs": [
    {
     "name": "stdout",
     "output_type": "stream",
     "text": [
      "List Before  [1, 2, 3, 1, 2, 4, 5, 4, 6, 2]\n",
      "List After removing duplicates  [1, 2, 3, 4, 5, 6]\n"
     ]
    }
   ],
   "source": [
    "my_list = [1, 2, 3, 1, 2, 4, 5, 4 ,6, 2]\n",
    "print(\"List Before \", my_list)\n",
    "temp_list = []\n",
    "\n",
    "for i in my_list:\n",
    "    if i not in temp_list:\n",
    "        temp_list.append(i)\n",
    "\n",
    "my_list = temp_list\n",
    "\n",
    "print(\"List After removing duplicates \", my_list)"
   ]
  },
  {
   "cell_type": "code",
   "execution_count": 11,
   "id": "6197de77",
   "metadata": {},
   "outputs": [
    {
     "name": "stdout",
     "output_type": "stream",
     "text": [
      "1,2,3,4,5,6,7,8,9,0,9,8,7,6,5,4,3,2,1,0,4,5,6,7,8,9,1,2,3\n"
     ]
    },
    {
     "data": {
      "text/plain": [
       "[1, 2, 3, 4, 5, 6, 7, 8, 9, 0]"
      ]
     },
     "execution_count": 11,
     "metadata": {},
     "output_type": "execute_result"
    }
   ],
   "source": [
    "def remove_duplicates(my_list):\n",
    "    \"\"\"This function remove the duplicates elements in the list\"\"\"\n",
    "    if len(my_list)==0:\n",
    "        return 'Empty list'\n",
    "\n",
    "    res=[]\n",
    "    for i in my_list:\n",
    "        if i not in res:\n",
    "            res.append(i)\n",
    "    return res\n",
    "\n",
    "my_list = list(map(int, input().split(',')))\n",
    "remove_duplicates(my_list)"
   ]
  },
  {
   "cell_type": "markdown",
   "id": "b6a280e5",
   "metadata": {},
   "source": [
    "### 7. Write a program to calculate the factorial of a given number."
   ]
  },
  {
   "cell_type": "code",
   "execution_count": 12,
   "id": "5794e7db",
   "metadata": {},
   "outputs": [
    {
     "data": {
      "text/plain": [
       "120"
      ]
     },
     "execution_count": 12,
     "metadata": {},
     "output_type": "execute_result"
    }
   ],
   "source": [
    "def factorial(n):\n",
    "    \"\"\"This function calculates the factorail of a number using recurssion\"\"\"\n",
    "    if n==0:\n",
    "        return 1\n",
    "    elif n<0:\n",
    "        return -1\n",
    "    return n*factorial(n-1)\n",
    "factorial(5)"
   ]
  },
  {
   "cell_type": "code",
   "execution_count": 13,
   "id": "35c535ec",
   "metadata": {},
   "outputs": [
    {
     "name": "stdout",
     "output_type": "stream",
     "text": [
      "4\n",
      "Not a prime\n"
     ]
    }
   ],
   "source": [
    "def is_prime(n):\n",
    "    \"\"\" This function check is prime number or not\"\"\"\n",
    "    \n",
    "    if n<1:\n",
    "        return \"please enter a valid number\"\n",
    "    elif n==1:\n",
    "        return \"1 is special number, please enter a valid number\"\n",
    "    \n",
    "    for i in range(2,int(n+1//2)):\n",
    "        if n%i==0:\n",
    "            return \"Not a prime\"\n",
    "    return \"prime number\"\n",
    "print(is_prime(n=int(input())))"
   ]
  },
  {
   "cell_type": "markdown",
   "id": "6f43c736",
   "metadata": {},
   "source": [
    "### 9. Write a Python program to sort a list of integers in ascending order."
   ]
  },
  {
   "cell_type": "code",
   "execution_count": 14,
   "id": "a87e3396",
   "metadata": {},
   "outputs": [
    {
     "name": "stdout",
     "output_type": "stream",
     "text": [
      "2,1,3,4\n"
     ]
    },
    {
     "data": {
      "text/plain": [
       "[1, 2, 3, 4]"
      ]
     },
     "execution_count": 14,
     "metadata": {},
     "output_type": "execute_result"
    }
   ],
   "source": [
    "# using built in function\n",
    "\n",
    "def sort_list(nums):\n",
    "    \"\"\"This function sorts of list numbers\"\"\"\n",
    "    nums.sort()\n",
    "    return nums\n",
    "\n",
    "nums = list(map(int, input().split(',')))\n",
    "sort_list(nums)"
   ]
  },
  {
   "cell_type": "code",
   "execution_count": 15,
   "id": "d494e521",
   "metadata": {},
   "outputs": [
    {
     "name": "stdout",
     "output_type": "stream",
     "text": [
      "2,3,1,6,5\n"
     ]
    },
    {
     "data": {
      "text/plain": [
       "[1, 2, 3, 5, 6]"
      ]
     },
     "execution_count": 15,
     "metadata": {},
     "output_type": "execute_result"
    }
   ],
   "source": [
    "def sort_list1(nums):\n",
    "    '''\n",
    "    This function sorts list of numbers using for loop\n",
    "    '''\n",
    "    n=len(nums)\n",
    "    for i in range(n):    # Iterating over nums index\n",
    "        for j in range(0,n-i-1):    # Iterating over index by reducing length by 1\n",
    "            if nums[j] > nums[j+1]:\n",
    "                nums[j], nums[j+1] = nums[j+1], nums[j]\n",
    "    return nums\n",
    "\n",
    "nums=list(map(int, input().split(',')))\n",
    "sort_list1(nums)"
   ]
  },
  {
   "cell_type": "markdown",
   "id": "869a269d",
   "metadata": {},
   "source": [
    "### 10. Implement a function to find the sum of all numbers in a list."
   ]
  },
  {
   "cell_type": "code",
   "execution_count": 3,
   "id": "991b69c8",
   "metadata": {},
   "outputs": [
    {
     "name": "stdout",
     "output_type": "stream",
     "text": [
      "22\n"
     ]
    }
   ],
   "source": [
    "def sum(numbers):\n",
    "    total = 0\n",
    "    for x in numbers:\n",
    "        total += x\n",
    "    return total\n",
    "print(sum((8, 7, 0, 5, 2)))"
   ]
  },
  {
   "cell_type": "code",
   "execution_count": 5,
   "id": "7228cf9c",
   "metadata": {},
   "outputs": [
    {
     "name": "stdout",
     "output_type": "stream",
     "text": [
      "7 4 5 6 1 2\n"
     ]
    },
    {
     "data": {
      "text/plain": [
       "25"
      ]
     },
     "execution_count": 5,
     "metadata": {},
     "output_type": "execute_result"
    }
   ],
   "source": [
    "from functools import reduce\n",
    "\n",
    "def sumOfListElement(my_list):\n",
    "    '''This function returns the sum of all the elements in a list using lambda ans reduce function'''\n",
    "    sum_ele = reduce(lambda a,b:a+b, my_list)\n",
    "    return sum_ele\n",
    "my_list=list(map(int, input().split()))\n",
    "sumOfListElement(my_list)"
   ]
  },
  {
   "cell_type": "markdown",
   "id": "2b2fbc97",
   "metadata": {},
   "source": [
    "### 11. Write a program to find the common elements between two lists"
   ]
  },
  {
   "cell_type": "code",
   "execution_count": 7,
   "id": "dd2778db",
   "metadata": {},
   "outputs": [
    {
     "name": "stdout",
     "output_type": "stream",
     "text": [
      "The common element in the two list are: \n",
      "[5]\n"
     ]
    }
   ],
   "source": [
    "def common_number(a , b):\n",
    "    result = [i for i in a if i in b]\n",
    "    return result\n",
    "    \n",
    "a = [1, 2, 3, 4,5]\n",
    "b = [5, 6, 7, 8]\n",
    "print(\"The common element in the two list are: \")\n",
    "print(common_number(a , b))"
   ]
  },
  {
   "cell_type": "code",
   "execution_count": 8,
   "id": "0a417eec",
   "metadata": {},
   "outputs": [
    {
     "name": "stdout",
     "output_type": "stream",
     "text": [
      "1, 2, 3, 4, 5, 6\n",
      "6, 7, 8, 9, 5, 3\n"
     ]
    },
    {
     "data": {
      "text/plain": [
       "[3, 5, 6]"
      ]
     },
     "execution_count": 8,
     "metadata": {},
     "output_type": "execute_result"
    }
   ],
   "source": [
    "def common_elements(l1, l2):\n",
    "    '''\n",
    "    This function returns the common elements in two list using for loop\n",
    "    '''\n",
    "    res=[]\n",
    "    for i in l1:\n",
    "        if i in l2:\n",
    "            res.append(i)\n",
    "    return res\n",
    "\n",
    "l1=eval(input())\n",
    "l2=eval(input())\n",
    "common_elements(l1, l2)"
   ]
  },
  {
   "cell_type": "markdown",
   "id": "315dd89d",
   "metadata": {},
   "source": [
    "### 12. Implement a function to check if a given string is an anagram of another string."
   ]
  },
  {
   "cell_type": "code",
   "execution_count": 9,
   "id": "7b15f345",
   "metadata": {},
   "outputs": [
    {
     "name": "stdout",
     "output_type": "stream",
     "text": [
      "Enter first string :cat\n",
      "Enter second string :act\n",
      "The strings are anagrams.\n"
     ]
    }
   ],
   "source": [
    "def check(s1, s2):\n",
    "    # the stored string are checked\n",
    "    if(sorted(s1)== sorted(s2)):\n",
    "        print(\"The strings are anagrams.\")\n",
    "    else:\n",
    "        print(\"The strings aren't anagrams.\")    \n",
    "    \n",
    "# driver code\n",
    "s1 =input(\"Enter first string :\")\n",
    "s2 =input(\"Enter second string :\")\n",
    "check(s1, s2)"
   ]
  },
  {
   "cell_type": "markdown",
   "id": "efac5fb0",
   "metadata": {},
   "source": [
    "### 13. Write a Python program to generate all permutations of a given string"
   ]
  },
  {
   "cell_type": "code",
   "execution_count": 10,
   "id": "6f9d8d22",
   "metadata": {},
   "outputs": [
    {
     "name": "stdout",
     "output_type": "stream",
     "text": [
      "abc\n",
      "acb\n",
      "bac\n",
      "bca\n",
      "cab\n",
      "cba\n"
     ]
    }
   ],
   "source": [
    "from itertools import permutations\n",
    "\n",
    "def generate_permutations(string):\n",
    "    # Generate all permutations of the string\n",
    "    perms = permutations(string)\n",
    "\n",
    "    # Iterate over the permutations and print each one\n",
    "    for perm in perms:\n",
    "        print(''.join(perm))\n",
    "\n",
    "input_string = \"abc\"\n",
    "generate_permutations(input_string)"
   ]
  },
  {
   "cell_type": "code",
   "execution_count": 11,
   "id": "57208487",
   "metadata": {},
   "outputs": [
    {
     "name": "stdout",
     "output_type": "stream",
     "text": [
      "Data\n",
      "Daat\n",
      "Dtaa\n",
      "Dtaa\n",
      "Daat\n",
      "Data\n",
      "aDta\n",
      "aDat\n",
      "atDa\n",
      "ataD\n",
      "aaDt\n",
      "aatD\n",
      "tDaa\n",
      "tDaa\n",
      "taDa\n",
      "taaD\n",
      "taDa\n",
      "taaD\n",
      "aDat\n",
      "aDta\n",
      "aaDt\n",
      "aatD\n",
      "atDa\n",
      "ataD\n"
     ]
    }
   ],
   "source": [
    "from itertools import permutations\n",
    "\n",
    "def string_permutation(s):\n",
    "    permutate= permutations(s)\n",
    "    for i in permutate:\n",
    "        print(''.join(i))\n",
    "        \n",
    "string_permutation('Data')"
   ]
  },
  {
   "cell_type": "markdown",
   "id": "37caa390",
   "metadata": {},
   "source": [
    "### 14. Implement a function to calculate the Fibonacci sequence up to a given number of terms.\n"
   ]
  },
  {
   "cell_type": "code",
   "execution_count": 12,
   "id": "cd820adb",
   "metadata": {},
   "outputs": [
    {
     "name": "stdout",
     "output_type": "stream",
     "text": [
      "[0, 1, 1, 2, 3, 5, 8, 13, 21, 34]\n"
     ]
    }
   ],
   "source": [
    "def fibonacci_sequence(n):\n",
    "    sequence = []\n",
    "\n",
    "    # First two terms of the Fibonacci sequence\n",
    "    a, b = 0, 1\n",
    "\n",
    "    # Generate Fibonacci sequence up to n terms\n",
    "    for _ in range(n):\n",
    "        sequence.append(a)\n",
    "        a, b = b, a + b\n",
    "\n",
    "    return sequence\n",
    "\n",
    "num_terms = 10\n",
    "result = fibonacci_sequence(num_terms)\n",
    "print(result)"
   ]
  },
  {
   "cell_type": "code",
   "execution_count": 13,
   "id": "816a36b4",
   "metadata": {},
   "outputs": [
    {
     "name": "stdout",
     "output_type": "stream",
     "text": [
      "0\n",
      "1\n",
      "1\n",
      "2\n",
      "3\n",
      "5\n",
      "8\n",
      "13\n",
      "21\n",
      "34\n"
     ]
    }
   ],
   "source": [
    "def fibonacci(n):\n",
    "    if n == 0:\n",
    "        return 0\n",
    "    elif n == 1:\n",
    "        return 1\n",
    "    else:\n",
    "        return fibonacci(n-1) + fibonacci(n-2)\n",
    "\n",
    "# Generate the first 10 numbers in the Fibonacci series\n",
    "for i in range(10):\n",
    "    print(fibonacci(i))"
   ]
  },
  {
   "cell_type": "code",
   "execution_count": 14,
   "id": "27a4e1c5",
   "metadata": {},
   "outputs": [
    {
     "name": "stdout",
     "output_type": "stream",
     "text": [
      "10\n",
      "0\n",
      "1\n",
      "1\n",
      "2\n",
      "3\n",
      "5\n",
      "8\n",
      "13\n",
      "21\n",
      "34\n"
     ]
    }
   ],
   "source": [
    "def fibonacci_seq(n):\n",
    "    '''\n",
    "    This function prints the fibonacci sequence upto a given number of terms\n",
    "    '''\n",
    "    x=0\n",
    "    y=1\n",
    "    for i in range(n):    # moving in the range of numbers\n",
    "        print(x)\n",
    "        x,y = y,x+y    # moving forwad\n",
    "\n",
    "        \n",
    "fibonacci_seq(n=int(input()))"
   ]
  },
  {
   "cell_type": "markdown",
   "id": "836c447f",
   "metadata": {},
   "source": [
    "### 15. Write a program to find the median of a list of numbers.\n"
   ]
  },
  {
   "cell_type": "code",
   "execution_count": 15,
   "id": "78bc0ca6",
   "metadata": {},
   "outputs": [
    {
     "name": "stdout",
     "output_type": "stream",
     "text": [
      "4.0\n"
     ]
    }
   ],
   "source": [
    "def find_median(numbers):\n",
    "    sorted_numbers = sorted(numbers)\n",
    "    n = len(sorted_numbers)\n",
    "\n",
    "    if n % 2 == 0:\n",
    "        # For an even number of elements, take the average of the middle two numbers\n",
    "        mid_right = n // 2\n",
    "        mid_left = mid_right - 1\n",
    "        median = (sorted_numbers[mid_left] + sorted_numbers[mid_right]) / 2\n",
    "    else:\n",
    "        # For an odd number of elements, take the middle number\n",
    "        mid = n // 2\n",
    "        median = sorted_numbers[mid]\n",
    "\n",
    "    return median\n",
    "\n",
    "my_list = [5, 2, 1, 7, 9, 3]\n",
    "result = find_median(my_list)\n",
    "print(result)  "
   ]
  },
  {
   "cell_type": "code",
   "execution_count": 16,
   "id": "b97c332d",
   "metadata": {},
   "outputs": [
    {
     "name": "stdout",
     "output_type": "stream",
     "text": [
      "[5,7,3,2,9]\n"
     ]
    },
    {
     "data": {
      "text/plain": [
       "5"
      ]
     },
     "execution_count": 16,
     "metadata": {},
     "output_type": "execute_result"
    }
   ],
   "source": [
    "from statistics import median\n",
    "\n",
    "def list_median(my_list):\n",
    "    '''\n",
    "    This function returns the median of a list of elements\n",
    "    '''\n",
    "    return median(my_list)\n",
    "\n",
    "list_median(my_list=eval(input()))"
   ]
  },
  {
   "cell_type": "markdown",
   "id": "dba7166a",
   "metadata": {},
   "source": [
    "### 16. Implement a function to check if a given list is sorted in non-decreasing order."
   ]
  },
  {
   "cell_type": "code",
   "execution_count": 17,
   "id": "e5b4588b",
   "metadata": {},
   "outputs": [
    {
     "name": "stdout",
     "output_type": "stream",
     "text": [
      "[5,4,3,2,1]\n"
     ]
    },
    {
     "data": {
      "text/plain": [
       "True"
      ]
     },
     "execution_count": 17,
     "metadata": {},
     "output_type": "execute_result"
    }
   ],
   "source": [
    "def check_sorted(my_list):\n",
    "    '''\n",
    "    This function checks if a list of numbers is sorted in descending order\n",
    "    '''\n",
    "    if not my_list:\n",
    "        return 'Empty list'\n",
    "    res= my_list    # store list in another variable\n",
    "    res=sorted(res, reverse=True)    # sort in descending order\n",
    "    if res==my_list:    # check\n",
    "        return True\n",
    "    else:\n",
    "        return False\n",
    "    \n",
    "check_sorted(eval(input()))"
   ]
  },
  {
   "cell_type": "markdown",
   "id": "8d9de2e3",
   "metadata": {},
   "source": [
    "### 17. Write a Python program to find the intersection of two lists"
   ]
  },
  {
   "cell_type": "code",
   "execution_count": 18,
   "id": "0bf90d92",
   "metadata": {},
   "outputs": [
    {
     "name": "stdout",
     "output_type": "stream",
     "text": [
      "[1,2,3,4,5]\n",
      "[3,4,5,6,7]\n"
     ]
    },
    {
     "data": {
      "text/plain": [
       "{3, 4, 5}"
      ]
     },
     "execution_count": 18,
     "metadata": {},
     "output_type": "execute_result"
    }
   ],
   "source": [
    "def list_intersection(l1, l2):\n",
    "    '''\n",
    "    This function returns the intersection(common) elements between two lists\n",
    "    '''\n",
    "    if len(l1)==0 or len(l2)==0:\n",
    "        return 'Empty List'\n",
    "    res = set(l1).intersection(l2)    # built-in function\n",
    "    return res\n",
    "\n",
    "l1=eval(input())\n",
    "l2=eval(input())\n",
    "list_intersection(l1, l2)"
   ]
  },
  {
   "cell_type": "markdown",
   "id": "e197f67b",
   "metadata": {},
   "source": [
    "### 18. Implement a function to find the maximum subarray sum in a given list."
   ]
  },
  {
   "cell_type": "code",
   "execution_count": 19,
   "id": "15cd450c",
   "metadata": {},
   "outputs": [
    {
     "name": "stdout",
     "output_type": "stream",
     "text": [
      "[2,5,6,3,2,1]\n"
     ]
    },
    {
     "data": {
      "text/plain": [
       "19"
      ]
     },
     "execution_count": 19,
     "metadata": {},
     "output_type": "execute_result"
    }
   ],
   "source": [
    "def maximum_subarray(l):\n",
    "    '''\n",
    "    This function returns the maximum subarray sum of a given list\n",
    "    '''\n",
    "    if not l:\n",
    "        return 0\n",
    "    current_sum=0\n",
    "    max_sum=float('-inf')\n",
    "    for num in l:\n",
    "        current_sum = max(num, current_sum+num)\n",
    "        max_sum = max(max_sum, current_sum)\n",
    "    return max_sum\n",
    "\n",
    "maximum_subarray(eval(input()))"
   ]
  },
  {
   "cell_type": "markdown",
   "id": "5ec2677f",
   "metadata": {},
   "source": [
    "### 19. Write a program to remove all vowels from a given string.\n"
   ]
  },
  {
   "cell_type": "code",
   "execution_count": 21,
   "id": "e54d6e23",
   "metadata": {},
   "outputs": [
    {
     "name": "stdout",
     "output_type": "stream",
     "text": [
      "himanshu\n"
     ]
    },
    {
     "data": {
      "text/plain": [
       "'hmnsh'"
      ]
     },
     "execution_count": 21,
     "metadata": {},
     "output_type": "execute_result"
    }
   ],
   "source": [
    "def remove_vowels(s):\n",
    "    '''\n",
    "    THis function returns a atring by removing vosels\n",
    "    '''\n",
    "    res=''\n",
    "    for i in(s):    # iterating over the cha\n",
    "        if i not in 'aeiou':    # check if the character in vowels\n",
    "            res+=i\n",
    "    return res\n",
    "\n",
    "remove_vowels(s=input())"
   ]
  },
  {
   "cell_type": "markdown",
   "id": "e37d5d9a",
   "metadata": {},
   "source": [
    "### 20. Implement a function to reverse the order of words in a given sentence.\n"
   ]
  },
  {
   "cell_type": "code",
   "execution_count": 22,
   "id": "6f18cd79",
   "metadata": {},
   "outputs": [
    {
     "name": "stdout",
     "output_type": "stream",
     "text": [
      "himanshu balodi\n"
     ]
    },
    {
     "data": {
      "text/plain": [
       "'balodi himanshu'"
      ]
     },
     "execution_count": 22,
     "metadata": {},
     "output_type": "execute_result"
    }
   ],
   "source": [
    "def reverse_words(l):\n",
    "    '''\n",
    "    This function reverse the order of sequence of words \n",
    "    '''\n",
    "    l.reverse()    # using built-in function\n",
    "    return ' '.join(l)\n",
    "\n",
    "l=input().split()\n",
    "reverse_words(l)"
   ]
  },
  {
   "cell_type": "markdown",
   "id": "27a14823",
   "metadata": {},
   "source": [
    "### 21. Write a Python program to check if two strings are anagrams of each other"
   ]
  },
  {
   "cell_type": "code",
   "execution_count": 23,
   "id": "359f4d60",
   "metadata": {},
   "outputs": [
    {
     "name": "stdout",
     "output_type": "stream",
     "text": [
      "data\n",
      "science\n"
     ]
    },
    {
     "data": {
      "text/plain": [
       "False"
      ]
     },
     "execution_count": 23,
     "metadata": {},
     "output_type": "execute_result"
    }
   ],
   "source": [
    "def string_anagram(s1, s2):\n",
    "    '''\n",
    "    This function checks if two strings are anagram to each other (means strings should be equal after sorting)\n",
    "    '''\n",
    "    s1=sorted(s1)\n",
    "    s2=sorted(s2)\n",
    "    return s1==s2    # comparing two sorted strings\n",
    "\n",
    "s1=input()\n",
    "s2=input()\n",
    "string_anagram(s1, s2)"
   ]
  },
  {
   "cell_type": "code",
   "execution_count": 24,
   "id": "97ea2d2b",
   "metadata": {},
   "outputs": [
    {
     "name": "stdout",
     "output_type": "stream",
     "text": [
      "True\n"
     ]
    }
   ],
   "source": [
    "def are_anagrams(str1, str2):\n",
    "    # Convert both strings to lowercase and remove whitespace\n",
    "    str1 = str1.lower().replace(\" \", \"\")\n",
    "    str2 = str2.lower().replace(\" \", \"\")\n",
    "\n",
    "    # Check if the lengths of the strings are equal\n",
    "    if len(str1) != len(str2):\n",
    "        return False\n",
    "\n",
    "    # Create character frequency dictionaries for both strings\n",
    "    char_freq1 = {}\n",
    "    char_freq2 = {}\n",
    "\n",
    "    # Count the frequency of characters in str1\n",
    "    for char in str1:\n",
    "        char_freq1[char] = char_freq1.get(char, 0) + 1\n",
    "\n",
    "    # Count the frequency of characters in str2\n",
    "    for char in str2:\n",
    "        char_freq2[char] = char_freq2.get(char, 0) + 1\n",
    "\n",
    "    # Compare the character frequencies\n",
    "    if char_freq1 == char_freq2:\n",
    "        return True\n",
    "    else:\n",
    "        return False\n",
    "    \n",
    "string1 = \"listen\"\n",
    "string2 = \"silent\"\n",
    "result = are_anagrams(string1, string2)\n",
    "print(result)  "
   ]
  },
  {
   "cell_type": "markdown",
   "id": "4c49f74c",
   "metadata": {},
   "source": [
    "### 22. Implement a function to find the first non-repeating character in a string.\n"
   ]
  },
  {
   "cell_type": "code",
   "execution_count": 25,
   "id": "375f0f80",
   "metadata": {},
   "outputs": [
    {
     "name": "stdout",
     "output_type": "stream",
     "text": [
      "himanshu\n",
      "i\n"
     ]
    }
   ],
   "source": [
    "def unique_char(s):\n",
    "    '''\n",
    "    This function iterates over the string and returns the first unique character\n",
    "    '''\n",
    "    index_map={}\n",
    "    for i in s:\n",
    "        if i not in index_map:    # storing the count of each number\n",
    "            index_map[i]=1\n",
    "        else:\n",
    "            index_map[i]+=1\n",
    "    for i in s:    # checking the count by iterating over loop\n",
    "        if index_map[i]==1:\n",
    "            print(i)\n",
    "            break\n",
    "            \n",
    "unique_char(s=input())"
   ]
  },
  {
   "cell_type": "markdown",
   "id": "51ea93e2",
   "metadata": {},
   "source": [
    "### 23. Write a program to find the prime factors of a given number"
   ]
  },
  {
   "cell_type": "code",
   "execution_count": 29,
   "id": "02cb1c61",
   "metadata": {},
   "outputs": [
    {
     "name": "stdout",
     "output_type": "stream",
     "text": [
      "Enter a number: 250000000\n",
      "Prime factors of 250000000 are: [2, 2, 2, 2, 2, 2, 2, 5, 5, 5, 5, 5, 5, 5, 5, 5]\n"
     ]
    }
   ],
   "source": [
    "def prime_factors(n):\n",
    "    factors = []\n",
    "    divisor = 2\n",
    "\n",
    "    while divisor <= n:\n",
    "        if n % divisor == 0:\n",
    "            factors.append(divisor)\n",
    "            n = n / divisor\n",
    "        else:\n",
    "            divisor += 1\n",
    "\n",
    "    return factors\n",
    "\n",
    "# Test the function\n",
    "number = int(input(\"Enter a number: \"))\n",
    "factors = prime_factors(number)\n",
    "\n",
    "print(\"Prime factors of\", number, \"are:\", factors)"
   ]
  },
  {
   "cell_type": "markdown",
   "id": "9141fdc3",
   "metadata": {},
   "source": [
    "### 24. Implement a function to check if a given number is a power of two."
   ]
  },
  {
   "cell_type": "code",
   "execution_count": 30,
   "id": "49b13981",
   "metadata": {},
   "outputs": [
    {
     "name": "stdout",
     "output_type": "stream",
     "text": [
      "Enter a number: 32\n",
      "32 is a power of two.\n"
     ]
    }
   ],
   "source": [
    "def is_power_of_two(n):\n",
    "    if n <= 0:\n",
    "        return False\n",
    "    return (n & (n - 1)) == 0\n",
    "number = int(input(\"Enter a number: \"))\n",
    "if is_power_of_two(number):\n",
    "    print(number, \"is a power of two.\")\n",
    "else:\n",
    "    print(number, \"is not a power of two.\")"
   ]
  },
  {
   "cell_type": "code",
   "execution_count": 31,
   "id": "b2019f65",
   "metadata": {},
   "outputs": [
    {
     "name": "stdout",
     "output_type": "stream",
     "text": [
      "1024\n"
     ]
    },
    {
     "data": {
      "text/plain": [
       "True"
      ]
     },
     "execution_count": 31,
     "metadata": {},
     "output_type": "execute_result"
    }
   ],
   "source": [
    "def power_of_two(n):\n",
    "    '''\n",
    "    This function checks if a number is power of 2\n",
    "    '''\n",
    "    power=1\n",
    "    while power<=n:\n",
    "        if power==n:\n",
    "            return True\n",
    "        power*=2\n",
    "    return False\n",
    "\n",
    "power_of_two(n=int(input()))"
   ]
  },
  {
   "cell_type": "markdown",
   "id": "3d4f37ba",
   "metadata": {},
   "source": [
    "### 25. Write a Python program to merge two sorted lists into a single sorted list."
   ]
  },
  {
   "cell_type": "code",
   "execution_count": 32,
   "id": "8d892d58",
   "metadata": {},
   "outputs": [
    {
     "name": "stdout",
     "output_type": "stream",
     "text": [
      "Merged sorted list: [1, 2, 3, 4, 5, 6, 7, 8, 9]\n"
     ]
    }
   ],
   "source": [
    "def merge_sorted_lists(list1, list2):\n",
    "    merged_list = []\n",
    "    i = 0\n",
    "    j = 0\n",
    "\n",
    "    while i < len(list1) and j < len(list2):\n",
    "        if list1[i] <= list2[j]:\n",
    "            merged_list.append(list1[i])\n",
    "            i += 1\n",
    "        else:\n",
    "            merged_list.append(list2[j])\n",
    "            j += 1\n",
    "\n",
    "    # Add remaining elements from list1, if any\n",
    "    while i < len(list1):\n",
    "        merged_list.append(list1[i])\n",
    "        i += 1\n",
    "\n",
    "    # Add remaining elements from list2, if any\n",
    "    while j < len(list2):\n",
    "        merged_list.append(list2[j])\n",
    "        j += 1\n",
    "\n",
    "    return merged_list\n",
    "\n",
    "# Test the function\n",
    "list1 = [1, 4, 6, 9]\n",
    "list2 = [2, 3, 5, 7, 8]\n",
    "merged = merge_sorted_lists(list1, list2)\n",
    "\n",
    "print(\"Merged sorted list:\", merged)"
   ]
  },
  {
   "cell_type": "markdown",
   "id": "a09cac41",
   "metadata": {},
   "source": [
    "### 26. Implement a function to find the mode of a list of numbers."
   ]
  },
  {
   "cell_type": "code",
   "execution_count": 33,
   "id": "16dfafca",
   "metadata": {},
   "outputs": [
    {
     "name": "stdout",
     "output_type": "stream",
     "text": [
      "1 1 2 1 3 4 5 6 7 1 1 6 \n"
     ]
    },
    {
     "data": {
      "text/plain": [
       "1"
      ]
     },
     "execution_count": 33,
     "metadata": {},
     "output_type": "execute_result"
    }
   ],
   "source": [
    "def list_mode(nums):\n",
    "    '''\n",
    "    This function returns mode number from list of numbers using index_map\n",
    "    '''\n",
    "    index_map={}\n",
    "    for i in nums:\n",
    "        if i not in index_map:    # adding elements to index_map\n",
    "            index_map[i]=1\n",
    "        else:\n",
    "            index_map[i]+=1\n",
    "    max_value=0\n",
    "    for k,v in index_map.items():    # getting the key value from index_map\n",
    "        if v>max_value:\n",
    "            max_value=v    # storing the max repeatation value\n",
    "    return index_map[max_value]\n",
    "\n",
    "nums=map(int, input().split())\n",
    "list_mode(nums)"
   ]
  },
  {
   "cell_type": "code",
   "execution_count": 34,
   "id": "8103a60c",
   "metadata": {},
   "outputs": [
    {
     "name": "stdout",
     "output_type": "stream",
     "text": [
      "1 1 3 2 6 5 8 3 1 1\n"
     ]
    },
    {
     "data": {
      "text/plain": [
       "1"
      ]
     },
     "execution_count": 34,
     "metadata": {},
     "output_type": "execute_result"
    }
   ],
   "source": [
    "from statistics import mode\n",
    "\n",
    "def list_mode(nums):\n",
    "    '''\n",
    "    This function returns mode number from list of numbers using built-in function\n",
    "    '''\n",
    "    return mode(nums)    # using built-in function\n",
    "\n",
    "nums=map(int, input().split())\n",
    "list_mode(nums)"
   ]
  },
  {
   "cell_type": "markdown",
   "id": "e04368d4",
   "metadata": {},
   "source": [
    "### 27. Write a program to find the greatest common divisor (GCD) of two numbers.\n"
   ]
  },
  {
   "cell_type": "code",
   "execution_count": 58,
   "id": "6dd72097",
   "metadata": {},
   "outputs": [
    {
     "name": "stdout",
     "output_type": "stream",
     "text": [
      "GCD of 12 & 17 = 1\n",
      "GCD of 4 & 6 = 2\n",
      "GCD of 336 & 360 = 24\n"
     ]
    }
   ],
   "source": [
    "def gcd(x, y):\n",
    "   gcd = 1   \n",
    "   if x % y == 0:\n",
    "       return y   \n",
    "   for k in range(int(y / 2), 0, -1):\n",
    "       if x % k == 0 and y % k == 0:\n",
    "           gcd = k\n",
    "           break \n",
    "   return gcd\n",
    "print(\"GCD of 12 & 17 =\",gcd(12, 17))\n",
    "print(\"GCD of 4 & 6 =\",gcd(4, 6))\n",
    "print(\"GCD of 336 & 360 =\",gcd(336, 360))\n"
   ]
  },
  {
   "cell_type": "markdown",
   "id": "fea9f110",
   "metadata": {},
   "source": [
    "### 28. Implement a function to calculate the square root of a given number."
   ]
  },
  {
   "cell_type": "code",
   "execution_count": 61,
   "id": "9a4d9fab",
   "metadata": {},
   "outputs": [
    {
     "name": "stdout",
     "output_type": "stream",
     "text": [
      "10\n"
     ]
    },
    {
     "data": {
      "text/plain": [
       "3.1622776601683795"
      ]
     },
     "execution_count": 61,
     "metadata": {},
     "output_type": "execute_result"
    }
   ],
   "source": [
    "from math import sqrt\n",
    "\n",
    "def square_root(n):\n",
    "    '''\n",
    "    This function returns square root of a number using built-in function\n",
    "    '''\n",
    "    return sqrt(n)\n",
    "\n",
    "square_root(n=int(input()))"
   ]
  },
  {
   "cell_type": "markdown",
   "id": "a5d488ff",
   "metadata": {},
   "source": [
    "### 29. Write a Python program to check if a given string is a valid palindrome ignoring non-alphanumeric characters.\n"
   ]
  },
  {
   "cell_type": "code",
   "execution_count": 88,
   "id": "fa40752a",
   "metadata": {},
   "outputs": [
    {
     "name": "stdout",
     "output_type": "stream",
     "text": [
      "111\n"
     ]
    },
    {
     "data": {
      "text/plain": [
       "True"
      ]
     },
     "execution_count": 88,
     "metadata": {},
     "output_type": "execute_result"
    }
   ],
   "source": [
    "def string_palindrome(s):\n",
    "    '''\n",
    "    This function returns checks and ignores the  non-alpha numeric characters and returns true if it is a palindrome\n",
    "    '''\n",
    "    rev=''\n",
    "    temp=s\n",
    "    while temp:\n",
    "        if not temp[-1].isalnum():    # ignoring non-alpha numric characters\n",
    "            temp=temp[:-1]\n",
    "            pass\n",
    "        else:\n",
    "            rev+=temp[-1]    # adding alpha numeric characters\n",
    "            temp=temp[:-1]\n",
    "    return rev==s\n",
    "\n",
    "s=input()\n",
    "string_palindrome(s)"
   ]
  },
  {
   "cell_type": "markdown",
   "id": "3d605e21",
   "metadata": {},
   "source": [
    "### 30. Implement a function to find the minimum element in a rotated sorted list.\n"
   ]
  },
  {
   "cell_type": "code",
   "execution_count": 90,
   "id": "ad5bb96b",
   "metadata": {},
   "outputs": [
    {
     "name": "stdout",
     "output_type": "stream",
     "text": [
      "5, 6, 1, 2, 3, 4\n",
      " 1\n"
     ]
    }
   ],
   "source": [
    "def minimum_element(nums):\n",
    "    '''\n",
    "    This function finds the minimum lement in a rotated list\n",
    "    '''\n",
    "    min_ele=nums[0]\n",
    "    for i in range(len(nums)):\n",
    "        if nums[i]<min_ele:\n",
    "            min_ele=nums[i]\n",
    "    return min_ele\n",
    "\n",
    "nums=input().split(',')\n",
    "print(minimum_element(nums))"
   ]
  },
  {
   "cell_type": "code",
   "execution_count": 91,
   "id": "01846531",
   "metadata": {},
   "outputs": [
    {
     "name": "stdout",
     "output_type": "stream",
     "text": [
      "Minimum element: 0\n"
     ]
    }
   ],
   "source": [
    "def find_minimum(nums):\n",
    "    left = 0\n",
    "    right = len(nums) - 1\n",
    "\n",
    "    while left < right:\n",
    "        mid = left + (right - left) // 2\n",
    "\n",
    "        if nums[mid] > nums[right]:\n",
    "            left = mid + 1\n",
    "        else:\n",
    "            right = mid\n",
    "\n",
    "    return nums[left]\n",
    "\n",
    "nums = [4, 5, 6, 7, 0, 1, 2]\n",
    "minimum = find_minimum(nums)\n",
    "print(\"Minimum element:\", minimum)"
   ]
  },
  {
   "cell_type": "markdown",
   "id": "14211786",
   "metadata": {},
   "source": [
    "### 31. Write a program to find the sum of all even numbers in a list."
   ]
  },
  {
   "cell_type": "code",
   "execution_count": 96,
   "id": "e4d136ab",
   "metadata": {},
   "outputs": [
    {
     "name": "stdout",
     "output_type": "stream",
     "text": [
      "Enter the  number: 100\n",
      "Sum of all even numbers from 1 to 100 is:  2550\n"
     ]
    }
   ],
   "source": [
    "def fun(n):  \n",
    "    sum = 0  \n",
    "    i = 2  \n",
    "    while i <= n:  \n",
    "        sum += i  \n",
    "        i = i + 2  \n",
    "    return sum  \n",
    "      \n",
    "n = int(input('Enter the  number: '))  \n",
    "print(\"Sum of all even numbers from 1 to\", n , \"is: \" , fun(n))  "
   ]
  },
  {
   "cell_type": "code",
   "execution_count": 97,
   "id": "b50e73f3",
   "metadata": {},
   "outputs": [
    {
     "name": "stdout",
     "output_type": "stream",
     "text": [
      "[5, 4, 3, 2, 1]\n"
     ]
    },
    {
     "data": {
      "text/plain": [
       "6"
      ]
     },
     "execution_count": 97,
     "metadata": {},
     "output_type": "execute_result"
    }
   ],
   "source": [
    "def even_sum(nums):\n",
    "    '''\n",
    "    This function sums up the even numbers in a list using for loop\n",
    "    '''\n",
    "    res=0\n",
    "    for i in nums:\n",
    "        if i%2==0:\n",
    "            res+=i\n",
    "    return res\n",
    "\n",
    "nums=eval(input())\n",
    "even_sum(nums)"
   ]
  },
  {
   "cell_type": "markdown",
   "id": "2c776819",
   "metadata": {},
   "source": [
    "### 32. Implement a function to calculate the power of a number using recursion"
   ]
  },
  {
   "cell_type": "code",
   "execution_count": 98,
   "id": "2287bd82",
   "metadata": {},
   "outputs": [
    {
     "name": "stdout",
     "output_type": "stream",
     "text": [
      "7\n",
      "2\n"
     ]
    },
    {
     "data": {
      "text/plain": [
       "49"
      ]
     },
     "execution_count": 98,
     "metadata": {},
     "output_type": "execute_result"
    }
   ],
   "source": [
    "def power(base, exponent):\n",
    "    '''\n",
    "    This function calculated the exponent value of a number\n",
    "    '''\n",
    "    # base case: if the exponent is 0, return 1\n",
    "    if exponent == 0:\n",
    "        return 1\n",
    "    \n",
    "    # recursive case: multiply the base by the result of power() with a reduced exponent\n",
    "    return base*power(base, exponent - 1)\n",
    "\n",
    "    \n",
    "base=int(input())\n",
    "exponent=int(input())\n",
    "power(base, exponent)\n"
   ]
  },
  {
   "cell_type": "markdown",
   "id": "b09b601b",
   "metadata": {},
   "source": [
    "### 33. Write a Python program to remove duplicates from a list while preserving the order."
   ]
  },
  {
   "cell_type": "code",
   "execution_count": 99,
   "id": "8ab9a07f",
   "metadata": {},
   "outputs": [
    {
     "name": "stdout",
     "output_type": "stream",
     "text": [
      "[3, 1, 2, 4, 6, 5]\n"
     ]
    }
   ],
   "source": [
    "# Using built-in function\n",
    "\n",
    "from collections import OrderedDict\n",
    "\n",
    "l=[3,3,1,1,2,4,6,5,5,4,4]\n",
    "res = list(OrderedDict.fromkeys(l))\n",
    "print(res)"
   ]
  },
  {
   "cell_type": "code",
   "execution_count": 100,
   "id": "4250f143",
   "metadata": {},
   "outputs": [
    {
     "data": {
      "text/plain": [
       "[3, 1, 2, 4, 6, 5]"
      ]
     },
     "execution_count": 100,
     "metadata": {},
     "output_type": "execute_result"
    }
   ],
   "source": [
    "def remove_duplicates_preserve_order(lst):\n",
    "    '''\n",
    "    This function removes duplicates from a list while preserving the order using set\n",
    "    '''\n",
    "    seen = set()\n",
    "    new_lst = [x for x in lst if not (x in seen or seen.add(x))]\n",
    "    return new_lst\n",
    "\n",
    "lst=[3,3,1,1,2,4,6,5,5,4,4]\n",
    "remove_duplicates_preserve_order(lst)"
   ]
  },
  {
   "cell_type": "markdown",
   "id": "add7d571",
   "metadata": {},
   "source": [
    "### 34. Implement a function to find the longest common prefix among a list of strings."
   ]
  },
  {
   "cell_type": "code",
   "execution_count": 101,
   "id": "2bc1f881",
   "metadata": {},
   "outputs": [
    {
     "name": "stdout",
     "output_type": "stream",
     "text": [
      "Longest common prefix: fl\n"
     ]
    }
   ],
   "source": [
    "def longest_common_prefix(strs):\n",
    "    if not strs:\n",
    "        return \"\"\n",
    "\n",
    "    prefix = strs[0]\n",
    "\n",
    "    for string in strs[1:]:\n",
    "        while string[:len(prefix)] != prefix:\n",
    "            prefix = prefix[:-1]\n",
    "            if not prefix:\n",
    "                return \"\"\n",
    "\n",
    "    return prefix\n",
    "\n",
    "strings = [\"flower\", \"flow\", \"flight\"]\n",
    "prefix = longest_common_prefix(strings)\n",
    "print(\"Longest common prefix:\", prefix)"
   ]
  },
  {
   "cell_type": "markdown",
   "id": "7430fd0a",
   "metadata": {},
   "source": [
    "### 35. Write a program to check if a given number is a perfect square."
   ]
  },
  {
   "cell_type": "code",
   "execution_count": 102,
   "id": "1218c230",
   "metadata": {},
   "outputs": [
    {
     "name": "stdout",
     "output_type": "stream",
     "text": [
      "Enter a number: 2502\n",
      "2502 is not a perfect square.\n"
     ]
    }
   ],
   "source": [
    "def is_perfect_square(number):\n",
    "    if number < 0:\n",
    "        return False\n",
    "\n",
    "    if number == 0:\n",
    "        return True\n",
    "\n",
    "    left = 1\n",
    "    right = number\n",
    "\n",
    "    while left <= right:\n",
    "        mid = left + (right - left) // 2\n",
    "        square = mid * mid\n",
    "\n",
    "        if square == number:\n",
    "            return True\n",
    "        elif square < number:\n",
    "            left = mid + 1\n",
    "        else:\n",
    "            right = mid - 1\n",
    "\n",
    "    return False\n",
    "\n",
    "number = int(input(\"Enter a number: \"))\n",
    "if is_perfect_square(number):\n",
    "    print(number, \"is a perfect square.\")\n",
    "else:\n",
    "    print(number, \"is not a perfect square.\")"
   ]
  },
  {
   "cell_type": "markdown",
   "id": "102206c6",
   "metadata": {},
   "source": [
    "### 36. Implement a function to calculate the product of all elements in a list."
   ]
  },
  {
   "cell_type": "code",
   "execution_count": 103,
   "id": "225b02cb",
   "metadata": {},
   "outputs": [
    {
     "name": "stdout",
     "output_type": "stream",
     "text": [
      "Product: 120\n"
     ]
    }
   ],
   "source": [
    "def calculate_product(numbers):\n",
    "    product = 1\n",
    "\n",
    "    for num in numbers:\n",
    "        product *= num\n",
    "\n",
    "    return product\n",
    "\n",
    "numbers = [1, 2, 3, 4, 5]\n",
    "result = calculate_product(numbers)\n",
    "\n",
    "print(\"Product:\", result)"
   ]
  },
  {
   "cell_type": "code",
   "execution_count": 104,
   "id": "d0f220f5",
   "metadata": {},
   "outputs": [
    {
     "name": "stdout",
     "output_type": "stream",
     "text": [
      "[1,2,3,4,5,6,7]\n"
     ]
    },
    {
     "data": {
      "text/plain": [
       "5040"
      ]
     },
     "execution_count": 104,
     "metadata": {},
     "output_type": "execute_result"
    }
   ],
   "source": [
    "from numpy import multiply\n",
    "\n",
    "def product_lements(list_nums):\n",
    "    '''\n",
    "    This function returns the product of list of numbers\n",
    "    '''\n",
    "    res=1\n",
    "    for i in list_nums:\n",
    "        res*=i\n",
    "    return res\n",
    "\n",
    "list_nums=eval(input())\n",
    "product_lements(list_nums)"
   ]
  },
  {
   "cell_type": "markdown",
   "id": "4d435eb9",
   "metadata": {},
   "source": [
    "### 37. Write a Python program to reverse the order of words in a sentence while preserving the word order."
   ]
  },
  {
   "cell_type": "code",
   "execution_count": 106,
   "id": "89e55ba6",
   "metadata": {},
   "outputs": [
    {
     "name": "stdout",
     "output_type": "stream",
     "text": [
      "'h', 'a', 'e'\n"
     ]
    },
    {
     "data": {
      "text/plain": [
       "['a', 'e', 'h']"
      ]
     },
     "execution_count": 106,
     "metadata": {},
     "output_type": "execute_result"
    }
   ],
   "source": [
    "def reverse_word(w):\n",
    "    '''\n",
    "    This function returns the reversed order word sequennce\n",
    "    '''\n",
    "    reversed_words = sorted(w)\n",
    "    return reversed_words\n",
    "\n",
    "reverse_word(w=eval(input()))"
   ]
  },
  {
   "cell_type": "markdown",
   "id": "19eb6db7",
   "metadata": {},
   "source": [
    "### 38. Implement a function to find the missing number in a given list of consecutive numbers."
   ]
  },
  {
   "cell_type": "code",
   "execution_count": 108,
   "id": "21e120d9",
   "metadata": {},
   "outputs": [
    {
     "name": "stdout",
     "output_type": "stream",
     "text": [
      "[1,2,4,5]\n",
      "3\n"
     ]
    }
   ],
   "source": [
    "def find_missing_number(numbers):\n",
    "    '''\n",
    "    This function prints the missing number in a list of consecutive numbers\n",
    "    '''\n",
    "    n = len(numbers)\n",
    "    expectedNumCount=n+1    # including missing numbeer count\n",
    "    for i in range(1,expectedNumCount):\n",
    "        if i not in numbers:    # check in the sequence\n",
    "            print(i)\n",
    "\n",
    "find_missing_number(numbers=eval(input()))"
   ]
  },
  {
   "cell_type": "markdown",
   "id": "1d6a7307",
   "metadata": {},
   "source": [
    "### 39. Write a program to find the sum of digits of a given number.\n"
   ]
  },
  {
   "cell_type": "code",
   "execution_count": 122,
   "id": "7fe92f78",
   "metadata": {},
   "outputs": [
    {
     "name": "stdout",
     "output_type": "stream",
     "text": [
      "254\n"
     ]
    },
    {
     "data": {
      "text/plain": [
       "11"
      ]
     },
     "execution_count": 122,
     "metadata": {},
     "output_type": "execute_result"
    }
   ],
   "source": [
    "def sum_of_digits(num):\n",
    "    '''\n",
    "    This function returns the the sum of digits of given number\n",
    "    '''\n",
    "    sum=0\n",
    "    temp=num\n",
    "    while temp:\n",
    "        rem=temp%10    # get reminder\n",
    "        sum+=rem    # adding to the sum\n",
    "        temp//=10    # reducing numbber\n",
    "        \n",
    "    return sum\n",
    "\n",
    "sum_of_digits(num=int(input()))"
   ]
  },
  {
   "cell_type": "markdown",
   "id": "a5e4a4fb",
   "metadata": {},
   "source": [
    "### 40. Implement a function to check if a given string is a valid palindrome considering case sensitivity.\n"
   ]
  },
  {
   "cell_type": "code",
   "execution_count": 123,
   "id": "e7ffa221",
   "metadata": {},
   "outputs": [
    {
     "name": "stdout",
     "output_type": "stream",
     "text": [
      "Yes\n"
     ]
    }
   ],
   "source": [
    "def isPalindrome(s):\n",
    "    return s == s[::-1]\n",
    " \n",
    "\n",
    "s = \"malayalam\"\n",
    "ans = isPalindrome(s)\n",
    " \n",
    "if ans:\n",
    "    print(\"Yes\")\n",
    "else:\n",
    "    print(\"No\")"
   ]
  },
  {
   "cell_type": "markdown",
   "id": "6418e85c",
   "metadata": {},
   "source": [
    "### 41. Write a Python program to find the smallest missing positive integer in a list.\n"
   ]
  },
  {
   "cell_type": "code",
   "execution_count": 124,
   "id": "9fb877be",
   "metadata": {},
   "outputs": [
    {
     "name": "stdout",
     "output_type": "stream",
     "text": [
      "[1,2,3,5,6,7,8,9]\n",
      "4\n"
     ]
    }
   ],
   "source": [
    "def find_smallest_missing_positive(lst):\n",
    "    '''\n",
    "    This function will find the the minimum missing number in a squence\n",
    "    '''\n",
    "    lst = [x for x in lst if x > 0]    # Remove negative numbers and zeros from the list\n",
    "\n",
    "    max_num = max(lst)    # Find the maximum number in the list\n",
    "\n",
    "    all_nums = set(range(1, max_num+1))   # Create a set of all numbers from 1 to the maximum number\n",
    "\n",
    "    missing_nums = all_nums - set(lst)    # Find the missing numbers by subtracting the set of list numbers from the set of all numbers\n",
    "\n",
    "    return min(missing_nums)    # Return the smallest missing positive integer\n",
    "\n",
    "lst=eval(input())\n",
    "smallest_missing = find_smallest_missing_positive(lst)\n",
    "print(smallest_missing)"
   ]
  },
  {
   "cell_type": "markdown",
   "id": "92f6c081",
   "metadata": {},
   "source": [
    "### 42. Implement a function to find the longest palindrome substring in a given string.\n"
   ]
  },
  {
   "cell_type": "code",
   "execution_count": 125,
   "id": "59a80cfb",
   "metadata": {},
   "outputs": [
    {
     "name": "stdout",
     "output_type": "stream",
     "text": [
      "Enter a string: forgeeksskeegfor\n",
      "Longest palindrome substring: geeksskeeg\n",
      "Enter a string: forgeeksskeegfor\n",
      "Longest palindrome substring: geeksskeeg\n"
     ]
    }
   ],
   "source": [
    "def longest_palindrome(s):\n",
    "    if not s:\n",
    "        return \"\"\n",
    "\n",
    "    longest = \"\"\n",
    "    for i in range(len(s)):\n",
    "        # Check odd length palindromes\n",
    "        palindrome_odd = expand_around_center(s, i, i)\n",
    "        if len(palindrome_odd) > len(longest):\n",
    "            longest = palindrome_odd\n",
    "\n",
    "        # Check even length palindromes\n",
    "        palindrome_even = expand_around_center(s, i, i + 1)\n",
    "        if len(palindrome_even) > len(longest):\n",
    "            longest = palindrome_even\n",
    "\n",
    "    return longest\n",
    "\n",
    "\n",
    "def expand_around_center(s, left, right):\n",
    "    while left >= 0 and right < len(s) and s[left] == s[right]:\n",
    "        left -= 1\n",
    "        right += 1\n",
    "\n",
    "    return s[left + 1:right]\n",
    "\n",
    "\n",
    "# Test the function\n",
    "string = input(\"Enter a string: \")\n",
    "result = longest_palindrome(string)\n",
    "\n",
    "print(\"Longest palindrome substring:\", result)\n",
    "\n",
    "string = input(\"Enter a string: \")\n",
    "result = longest_palindrome(string)\n",
    "\n",
    "print(\"Longest palindrome substring:\", result)"
   ]
  },
  {
   "cell_type": "markdown",
   "id": "210d0651",
   "metadata": {},
   "source": [
    "### 43. Write a program to find the number of occurrences of a given element in a list."
   ]
  },
  {
   "cell_type": "code",
   "execution_count": 126,
   "id": "4c82de8a",
   "metadata": {},
   "outputs": [
    {
     "name": "stdout",
     "output_type": "stream",
     "text": [
      "1 2 3 7 7 7\n",
      "7\n"
     ]
    },
    {
     "data": {
      "text/plain": [
       "3"
      ]
     },
     "execution_count": 126,
     "metadata": {},
     "output_type": "execute_result"
    }
   ],
   "source": [
    "def element_occurrance(lst_ele, n):\n",
    "    '''\n",
    "    This function returns the occurance of a number in a sequence\n",
    "    '''\n",
    "    ans=0\n",
    "    for i in lst_ele:\n",
    "        if int(i)==n:\n",
    "            ans+=1\n",
    "    return ans\n",
    "\n",
    "lst_ele=map(int, input().split())\n",
    "n=int(input())\n",
    "element_occurrance(lst_ele, n)"
   ]
  },
  {
   "cell_type": "markdown",
   "id": "93b4ef01",
   "metadata": {},
   "source": [
    "### 44. Implement a function to check if a given number is a perfect number.\n"
   ]
  },
  {
   "cell_type": "code",
   "execution_count": 127,
   "id": "dcd02203",
   "metadata": {},
   "outputs": [],
   "source": [
    "def is_perfect_number(number):\n",
    "    if number <= 0:\n",
    "        return False\n",
    "\n",
    "    divisor_sum = 0\n",
    "\n",
    "    for i in range(1, number):\n",
    "        if number % i == 0:\n",
    "            divisor_sum += i\n",
    "\n",
    "    return divisor_sum == number"
   ]
  },
  {
   "cell_type": "code",
   "execution_count": 128,
   "id": "eeac70e5",
   "metadata": {},
   "outputs": [
    {
     "name": "stdout",
     "output_type": "stream",
     "text": [
      "28\n"
     ]
    },
    {
     "data": {
      "text/plain": [
       "True"
      ]
     },
     "execution_count": 128,
     "metadata": {},
     "output_type": "execute_result"
    }
   ],
   "source": [
    "def perfect_num(n):\n",
    "    if n==1:\n",
    "        return True\n",
    "    sum=0\n",
    "    for i in range(1,n):\n",
    "        if n%i==0:\n",
    "            sum+=i\n",
    "    return sum==n\n",
    "\n",
    "perfect_num(n=int(input()))"
   ]
  },
  {
   "cell_type": "markdown",
   "id": "bb225b66",
   "metadata": {},
   "source": [
    "### 45. Write a Python program to remove all duplicates from a string."
   ]
  },
  {
   "cell_type": "code",
   "execution_count": 129,
   "id": "9c036c12",
   "metadata": {},
   "outputs": [
    {
     "name": "stdout",
     "output_type": "stream",
     "text": [
      "himanshuuuuuuubalodiiiii\n"
     ]
    },
    {
     "data": {
      "text/plain": [
       "'osnhmuldbai'"
      ]
     },
     "execution_count": 129,
     "metadata": {},
     "output_type": "execute_result"
    }
   ],
   "source": [
    "def remove_duplicates(string):\n",
    "    return ''.join(set(string))\n",
    "     \n",
    "remove_duplicates(input())"
   ]
  },
  {
   "cell_type": "markdown",
   "id": "d8bc4ae7",
   "metadata": {},
   "source": [
    "\n",
    "### 46. Implement a function to find the first missing positive\n"
   ]
  },
  {
   "cell_type": "code",
   "execution_count": 131,
   "id": "cbbb6b80",
   "metadata": {},
   "outputs": [
    {
     "name": "stdout",
     "output_type": "stream",
     "text": [
      "1 2 3 5 6 7 8 9\n"
     ]
    },
    {
     "data": {
      "text/plain": [
       "4"
      ]
     },
     "execution_count": 131,
     "metadata": {},
     "output_type": "execute_result"
    }
   ],
   "source": [
    "def first_missing(nums):\n",
    "    '''\n",
    "    This function returs the first missing number\n",
    "    '''\n",
    "    lst=[x for x in nums if x>0]    # removing al the negative numbers\n",
    "    max_num=max(lst)    # find the maximum of list of numbers\n",
    "    all_nums=set(range(1,max_num+1))    # set of all numbers\n",
    "    missing_num=all_nums-set(lst)    # missing number from sequence\n",
    "    return min(missing_num)    # first missing\n",
    "\n",
    "first_missing(nums=map(int, input().split()))"
   ]
  },
  {
   "cell_type": "code",
   "execution_count": null,
   "id": "2b5cdd58",
   "metadata": {},
   "outputs": [],
   "source": []
  }
 ],
 "metadata": {
  "kernelspec": {
   "display_name": "Python 3 (ipykernel)",
   "language": "python",
   "name": "python3"
  },
  "language_info": {
   "codemirror_mode": {
    "name": "ipython",
    "version": 3
   },
   "file_extension": ".py",
   "mimetype": "text/x-python",
   "name": "python",
   "nbconvert_exporter": "python",
   "pygments_lexer": "ipython3",
   "version": "3.10.9"
  }
 },
 "nbformat": 4,
 "nbformat_minor": 5
}
